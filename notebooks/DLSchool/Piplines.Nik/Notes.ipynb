{
 "cells": [
  {
   "cell_type": "code",
   "execution_count": null,
   "metadata": {},
   "outputs": [],
   "source": []
  },
  {
   "cell_type": "markdown",
   "metadata": {},
   "source": [
    "### Regularizations\n",
    "- use normalization. For SGD it will equally ban feature weights (sklrean.preprocessing.StandardScaler)\n",
    "- we don't want to ban intercept, it can be as high in abs as it is needed, it's a spread btw model and data\n",
    "\n",
    "### SGD\n",
    "+ (+) faster, much faster\n",
    "- (-) less stalbe, but negligable"
   ]
  },
  {
   "cell_type": "markdown",
   "metadata": {},
   "source": [
    "### Learning\n",
    "- Adaptive learning rate"
   ]
  },
  {
   "cell_type": "markdown",
   "metadata": {},
   "source": [
    "### Algos\n",
    "- Bagging (bootstrap aggregate) : make N random samples => overaging the output\n",
    "- Stacking: train X simple algos and use outputs as new features for new algo\n",
    "- Boosting: learn N algos, each next algo compensate prev algo error"
   ]
  },
  {
   "cell_type": "markdown",
   "metadata": {},
   "source": [
    "### KNN\n",
    "- (-) need to store all data to predict\n",
    "\n",
    "### Decision trees\n",
    "- (+) simple idea and algo\n",
    "- (+) interpretation\n",
    "- (+) regularization (dept, #leafs)\n",
    "- (+) Ok with Nan\n",
    "- (-) overfitting\n",
    "- (-) only classification (no regression)\n",
    "- (-) instabillity from model params\n",
    "\n",
    "### Random forest (Best ML reference)\n",
    "- (+) solve decision tree instability\n",
    "- (+) can be parallized\n",
    "- (-) no more interpretation\n",
    "\n",
    "\n",
    "# Convolutional networks\n",
    "\n",
    "- (+) can work with high quality images (instead 2^100 input neurons -> kernels reduce inputs)\n",
    "- (+) preserve image spatial relationship\n",
    "\n",
    "### What is the role of convolutional layers?\n",
    "- feature extracting\n",
    "\n",
    "### What is the role of kernels?\n",
    "- one kernel represents some pattern (vertical/horizontal line, circle etc). If the image has this pattern, activation card will have big values in abs."
   ]
  },
  {
   "cell_type": "code",
   "execution_count": null,
   "metadata": {},
   "outputs": [],
   "source": []
  }
 ],
 "metadata": {
  "kernelspec": {
   "display_name": "Python 3",
   "language": "python",
   "name": "python3"
  },
  "language_info": {
   "codemirror_mode": {
    "name": "ipython",
    "version": 3
   },
   "file_extension": ".py",
   "mimetype": "text/x-python",
   "name": "python",
   "nbconvert_exporter": "python",
   "pygments_lexer": "ipython3",
   "version": "3.7.1"
  }
 },
 "nbformat": 4,
 "nbformat_minor": 4
}
