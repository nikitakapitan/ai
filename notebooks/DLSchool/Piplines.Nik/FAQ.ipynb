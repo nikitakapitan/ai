{
 "cells": [
  {
   "cell_type": "markdown",
   "metadata": {},
   "source": [
    "# Data treatment\n",
    "### why we should exclude collinear features?\n",
    "- we can't solve analytically if feature matrix is collinear\n",
    "- learning: model will have problem with conter-explosion:\n",
    "    - having x1 and x2=x1 : x1*e+14 - x2*e+14 = 0. The model learning becomes unstable\n",
    "    \n",
    "### how to avoid conter-explosion?\n",
    "- weights regularization\n",
    "\n",
    "### why we need metrics?\n",
    "Use loss function as perfofmance is not always good as we are learning to minimize loss function.\n",
    "- metrics alows us to independantly check the performance"
   ]
  },
  {
   "cell_type": "markdown",
   "metadata": {},
   "source": [
    "### What are (+) and (-) for L1 and L2 regularizations?\n",
    "#### L2 (help to fight with collinear features)\n",
    "- (+) allow small non-zero weights for \"free\"\n",
    "- (+) ahve analytical solution\n",
    "\n",
    "#### L1 (help to remove unimportant features - отбор признаков)\n",
    "- (+) can tell what feature are unsignificant (raising feature's weight does not or improve __J^2__ more weak that the weights raises itself)\n",
    "- (-) doesn't have analytical solution. Gradient instability in zero"
   ]
  },
  {
   "cell_type": "markdown",
   "metadata": {},
   "source": [
    "### What is the difference btw dropout and ensembling of NN?"
   ]
  },
  {
   "cell_type": "code",
   "execution_count": null,
   "metadata": {},
   "outputs": [],
   "source": []
  }
 ],
 "metadata": {
  "kernelspec": {
   "display_name": "Python 3",
   "language": "python",
   "name": "python3"
  },
  "language_info": {
   "codemirror_mode": {
    "name": "ipython",
    "version": 3
   },
   "file_extension": ".py",
   "mimetype": "text/x-python",
   "name": "python",
   "nbconvert_exporter": "python",
   "pygments_lexer": "ipython3",
   "version": "3.7.1"
  }
 },
 "nbformat": 4,
 "nbformat_minor": 4
}
