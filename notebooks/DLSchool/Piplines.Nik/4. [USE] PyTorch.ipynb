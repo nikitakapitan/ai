{
 "cells": [
  {
   "cell_type": "markdown",
   "metadata": {},
   "source": [
    "- MyNet is always inherited from nn.Module\n",
    "- nn.Module is base class (inherited from __object__\n",
    "- MyNet should contain --init-- and --forward--\n",
    "- undefined --forward-- doesn't raise error asap, only when calling\n",
    "- MyNet.parameters() are defined while --init-- (don't forget to use nn.ModuleList or nn.Parameter for explicit parameter declaration)"
   ]
  },
  {
   "cell_type": "code",
   "execution_count": 9,
   "metadata": {},
   "outputs": [],
   "source": [
    "from torch import nn\n",
    "from torch.nn.functional import relu, softmax\n",
    "\n",
    "class MyNet(nn.Module):\n",
    "    \n",
    "    def __init__(self):\n",
    "        super().__init__()\n",
    "        \n",
    "        self.layers = nn.ModuleList([nn.Linear(748, 30), nn.Linear(30, 10)])\n",
    "\n",
    "    def forward(self, X):\n",
    "        for layer in self.layers[:-1]:\n",
    "            X = relu(layer(a))\n",
    "        return softmax(self.layers[-1](X), -1)"
   ]
  },
  {
   "cell_type": "code",
   "execution_count": null,
   "metadata": {},
   "outputs": [],
   "source": []
  }
 ],
 "metadata": {
  "kernelspec": {
   "display_name": "Python 3",
   "language": "python",
   "name": "python3"
  },
  "language_info": {
   "codemirror_mode": {
    "name": "ipython",
    "version": 3
   },
   "file_extension": ".py",
   "mimetype": "text/x-python",
   "name": "python",
   "nbconvert_exporter": "python",
   "pygments_lexer": "ipython3",
   "version": "3.7.1"
  }
 },
 "nbformat": 4,
 "nbformat_minor": 4
}
